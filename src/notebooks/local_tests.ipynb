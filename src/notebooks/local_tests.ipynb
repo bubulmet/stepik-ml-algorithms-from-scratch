{
 "cells": [
  {
   "cell_type": "markdown",
   "id": "65114ce9-ecdc-473c-ad6c-fcbe8f1a55a7",
   "metadata": {},
   "source": [
    "# init"
   ]
  },
  {
   "cell_type": "code",
   "execution_count": 1,
   "id": "b1c250e6-6838-4302-a78c-5d0c2cae3c57",
   "metadata": {},
   "outputs": [],
   "source": [
    "import pandas as pd\n",
    "import numpy as np\n",
    "from matplotlib import pyplot as plt\n",
    "\n",
    "%matplotlib inline"
   ]
  },
  {
   "cell_type": "code",
   "execution_count": 2,
   "id": "e41a9f8d-dabb-46ff-a566-d4462ab4a2f2",
   "metadata": {},
   "outputs": [],
   "source": [
    "plt.rcParams[\"figure.figsize\"] = (13,8)\n",
    "plt.style.use('ggplot')"
   ]
  },
  {
   "cell_type": "markdown",
   "id": "22225f04-53fd-4dfd-b471-95e9a1c0b191",
   "metadata": {},
   "source": [
    "# sample data"
   ]
  },
  {
   "cell_type": "code",
   "execution_count": null,
   "id": "eac0f675-050c-40ed-aa26-14cf319346db",
   "metadata": {},
   "outputs": [],
   "source": [
    "df = pd.read_csv('banknote+authentication.zip', header=None)\n",
    "df.columns = ['variance', 'skewness', 'curtosis', 'entropy', 'target']\n",
    "X, y = df.iloc[:,:4], df['target']"
   ]
  },
  {
   "cell_type": "code",
   "execution_count": null,
   "id": "2f20a2ff-9231-4a2b-af67-0cd44962c39d",
   "metadata": {},
   "outputs": [],
   "source": [
    "from sklearn.datasets import load_diabetes\n",
    "\n",
    "data = load_diabetes(as_frame=True)\n",
    "X, y = data['data'], data['target']"
   ]
  },
  {
   "cell_type": "code",
   "execution_count": null,
   "id": "cd608854-b48c-4573-b5a4-4ba67c94a634",
   "metadata": {},
   "outputs": [],
   "source": [
    "from sklearn.datasets import make_regression\n",
    "\n",
    "X, y = make_regression(n_samples=1000, n_features=14, n_informative=10, noise=15, random_state=42)\n",
    "X = pd.DataFrame(X)\n",
    "y = pd.Series(y)\n",
    "X.columns = [f'col_{col}' for col in X.columns]"
   ]
  },
  {
   "cell_type": "code",
   "execution_count": null,
   "id": "ed50fe91-2324-44b0-b1b1-aa19aa4849a9",
   "metadata": {},
   "outputs": [],
   "source": [
    "from sklearn.datasets import make_classification\n",
    "\n",
    "X, y = make_classification(n_samples=1000, n_features=14, n_informative=10, random_state=42)\n",
    "X = pd.DataFrame(X)\n",
    "y = pd.Series(y)\n",
    "X.columns = [f'col_{col}' for col in X.columns]"
   ]
  },
  {
   "cell_type": "code",
   "execution_count": null,
   "id": "64f503d6-6929-4991-b432-061513251920",
   "metadata": {},
   "outputs": [],
   "source": [
    "from sklearn.datasets import make_blobs\n",
    "\n",
    "X, _ = make_blobs(n_samples=100, centers=5, n_features=5, cluster_std=2.5, random_state=42)\n",
    "X = pd.DataFrame(X)\n",
    "X.columns = [f'col_{col}' for col in X.columns]"
   ]
  },
  {
   "cell_type": "code",
   "execution_count": null,
   "id": "71014b86-be5a-49f4-a7b4-f920d07ed536",
   "metadata": {},
   "outputs": [],
   "source": []
  },
  {
   "cell_type": "code",
   "execution_count": 10,
   "id": "fb4f22c9-cdf8-4030-9481-5ee41f0a4fcf",
   "metadata": {},
   "outputs": [],
   "source": [
    "class MyLineReg():\n",
    "    def __init__(self, n_iter: int = 100, learning_rate: float = 0.1):\n",
    "        self.n_iter = n_iter\n",
    "        self.learning_rate = learning_rate\n",
    "\n",
    "    def __str__(self):\n",
    "        self_dict = self.__dict__\n",
    "        list_of_strings = [f'{k}={v}' for k, v in self_dict.items()]\n",
    "        one_string_description = ', '.join(list_of_strings)\n",
    "        return f\"MyLineReg class: {one_string_description}\""
   ]
  },
  {
   "cell_type": "code",
   "execution_count": 11,
   "id": "26426cdd-3f65-405e-a11a-d8bd12cbe66d",
   "metadata": {},
   "outputs": [],
   "source": [
    "a = MyLineReg(**{\"n_iter\": 10, \"learning_rate\": 0.5})"
   ]
  },
  {
   "cell_type": "code",
   "execution_count": 12,
   "id": "b835e091-aa5d-4cc5-9e35-203661aa5fa3",
   "metadata": {},
   "outputs": [
    {
     "name": "stdout",
     "output_type": "stream",
     "text": [
      "MyLineReg class: n_iter=10, learning_rate=0.5\n"
     ]
    }
   ],
   "source": [
    "print(a)"
   ]
  },
  {
   "cell_type": "code",
   "execution_count": null,
   "id": "48617614-a0b6-43d9-973c-a6de2dba138b",
   "metadata": {},
   "outputs": [],
   "source": []
  }
 ],
 "metadata": {
  "kernelspec": {
   "display_name": "Python [conda env:sandbox]",
   "language": "python",
   "name": "conda-env-sandbox-py"
  },
  "language_info": {
   "codemirror_mode": {
    "name": "ipython",
    "version": 3
   },
   "file_extension": ".py",
   "mimetype": "text/x-python",
   "name": "python",
   "nbconvert_exporter": "python",
   "pygments_lexer": "ipython3",
   "version": "3.12.3"
  }
 },
 "nbformat": 4,
 "nbformat_minor": 5
}
